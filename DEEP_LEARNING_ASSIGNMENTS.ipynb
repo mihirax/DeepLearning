{
  "nbformat": 4,
  "nbformat_minor": 0,
  "metadata": {
    "colab": {
      "provenance": [],
      "include_colab_link": true
    },
    "kernelspec": {
      "name": "python3",
      "display_name": "Python 3"
    },
    "language_info": {
      "name": "python"
    }
  },
  "cells": [
    {
      "cell_type": "markdown",
      "metadata": {
        "id": "view-in-github",
        "colab_type": "text"
      },
      "source": [
        "<a href=\"https://colab.research.google.com/github/mihirax/DeepLearning/blob/main/DEEP_LEARNING_ASSIGNMENTS.ipynb\" target=\"_parent\"><img src=\"https://colab.research.google.com/assets/colab-badge.svg\" alt=\"Open In Colab\"/></a>"
      ]
    },
    {
      "cell_type": "markdown",
      "source": [
        "\n",
        "\n",
        "```\n",
        "# This is formatted as code\n",
        "```\n",
        "\n",
        "\n",
        "ASSIGNMENT 1"
      ],
      "metadata": {
        "id": "2Kb9hsX57C-i"
      }
    },
    {
      "cell_type": "markdown",
      "source": [
        "XOR Gate using Keras Functional API"
      ],
      "metadata": {
        "id": "y82XbR4i63uh"
      }
    },
    {
      "cell_type": "code",
      "execution_count": null,
      "metadata": {
        "colab": {
          "base_uri": "https://localhost:8080/"
        },
        "id": "TBi2KZGj6ySk",
        "outputId": "89d2d160-036f-499a-f894-b42d2b91d892"
      },
      "outputs": [
        {
          "output_type": "stream",
          "name": "stdout",
          "text": [
            "\u001b[1m1/1\u001b[0m \u001b[32m━━━━━━━━━━━━━━━━━━━━\u001b[0m\u001b[37m\u001b[0m \u001b[1m0s\u001b[0m 143ms/step - accuracy: 1.0000 - loss: 0.2896\n",
            "Accuracy: 100.0%\n",
            "\u001b[1m1/1\u001b[0m \u001b[32m━━━━━━━━━━━━━━━━━━━━\u001b[0m\u001b[37m\u001b[0m \u001b[1m0s\u001b[0m 47ms/step\n",
            "Predictions:\n",
            "[[0.]\n",
            " [1.]\n",
            " [1.]\n",
            " [0.]]\n",
            "[]\n",
            "[array([[-6.235339, -2.303349],\n",
            "       [ 6.361   ,  4.560072]], dtype=float32), array([-4.4206514, -0.9883656], dtype=float32)]\n",
            "[array([[ 5.1588974],\n",
            "       [-2.2400255]], dtype=float32), array([3.156152], dtype=float32)]\n"
          ]
        }
      ],
      "source": [
        "import numpy as np\n",
        "import tensorflow as tf\n",
        "from tensorflow.keras.models import Model\n",
        "from tensorflow.keras.layers import Input, Dense\n",
        "\n",
        "X = np.array([[0, 0], [0, 1], [1, 0], [1, 1]])\n",
        "y = np.array([[0], [1], [1], [0]])\n",
        "\n",
        "inputs = Input(shape=(2,))\n",
        "hidden = Dense(2, activation='tanh')(inputs)\n",
        "output = Dense(1, activation='sigmoid')(hidden)\n",
        "\n",
        "model = Model(inputs=inputs, outputs=output)\n",
        "model.compile(optimizer='adam', loss='binary_crossentropy', metrics=['accuracy'])\n",
        "model.fit(X, y, epochs=10000, verbose=0)\n",
        "\n",
        "_, accuracy = model.evaluate(X, y)\n",
        "print(f'Accuracy: {accuracy * 100}%')\n",
        "\n",
        "predictions = model.predict(X)\n",
        "print(f'Predictions:\\n{predictions.round()}')\n",
        "\n",
        "for layer in model.layers:\n",
        "    print(layer.get_weights())\n"
      ]
    },
    {
      "cell_type": "markdown",
      "source": [
        "ASSIGNMENT 2\n"
      ],
      "metadata": {
        "id": "Kr28L7RCGygx"
      }
    },
    {
      "cell_type": "markdown",
      "source": [
        "Comparing Adam and SGD"
      ],
      "metadata": {
        "id": "HthZXOV8G3Kw"
      }
    },
    {
      "cell_type": "code",
      "source": [
        "import tensorflow as tf\n",
        "from tensorflow.keras import layers, models, optimizers\n",
        "import numpy as np\n",
        "import matplotlib.pyplot as plt\n",
        "\n",
        "# 1. Create synthetic data\n",
        "def create_data():\n",
        "    X = np.random.randn(1000, 10)\n",
        "    y = np.random.randn(1000, 1)\n",
        "    return X, y\n",
        "\n",
        "# 2. Define a simple deep neural network\n",
        "def create_model():\n",
        "    model = models.Sequential([\n",
        "        layers.Dense(50, activation='relu', input_shape=(10,)),\n",
        "        layers.Dense(20, activation='relu'),\n",
        "        layers.Dense(1)\n",
        "    ])\n",
        "    return model\n",
        "\n",
        "# 3. Train the model and capture both training and validation loss values\n",
        "def train_model_with_history(model, optimizer, X, y, batch_size, epochs, optimizer_name, validation_split=0.2):\n",
        "    model.compile(optimizer=optimizer, loss='mean_squared_error')\n",
        "    history = model.fit(X, y, batch_size=batch_size, epochs=epochs, validation_split=validation_split, verbose=0)\n",
        "    train_loss = history.history['loss']\n",
        "    val_loss = history.history['val_loss']\n",
        "    for epoch in range(epochs):\n",
        "        print(f\"Epoch {epoch+1}/{epochs} - {optimizer_name} loss: {train_loss[epoch]:.4f} - val_loss: {val_loss[epoch]:.4f}\")\n",
        "    return train_loss, val_loss\n",
        "\n",
        "# 4. Compare performance of SGD and Adam\n",
        "# Load data\n",
        "X, y = create_data()\n",
        "\n",
        "# Create models for SGD and Adam\n",
        "model_sgd = create_model()\n",
        "model_adam = create_model()\n",
        "\n",
        "# Optimizers\n",
        "optimizer_sgd = optimizers.SGD(learning_rate=0.01)\n",
        "optimizer_adam = optimizers.Adam(learning_rate=0.001)\n",
        "\n",
        "# Set training parameters\n",
        "epochs = 50\n",
        "batch_size = 32\n",
        "\n",
        "# Train models and capture both training and validation loss history\n",
        "print(\"\\nTraining with SGD optimizer\")\n",
        "sgd_loss, sgd_val_loss = train_model_with_history(model_sgd, optimizer_sgd, X, y, batch_size, epochs, 'SGD')\n",
        "\n",
        "print(\"\\nTraining with Adam optimizer\")\n",
        "adam_loss, adam_val_loss = train_model_with_history(model_adam, optimizer_adam, X, y, batch_size, epochs, 'Adam')\n",
        "\n",
        "# 5. Plot the loss curves for comparison\n",
        "plt.plot(range(1, epochs + 1), sgd_loss, label='SGD - Train Loss', color='blue')\n",
        "plt.plot(range(1, epochs + 1), sgd_val_loss, label='SGD - Validation Loss', color='lightblue')\n",
        "plt.plot(range(1, epochs + 1), adam_loss, label='Adam - Train Loss', color='orange')\n",
        "plt.plot(range(1, epochs + 1), adam_val_loss, label='Adam - Validation Loss', color='yellow')\n",
        "plt.xlabel(\"Epochs\")\n",
        "plt.ylabel(\"Loss\")\n",
        "plt.title(\"SGD vs Adam Optimizer: Training and Validation Loss Comparison\")\n",
        "plt.legend()\n",
        "plt.grid(True)\n",
        "plt.show()"
      ],
      "metadata": {
        "id": "5thSLyqmGx1x"
      },
      "execution_count": null,
      "outputs": []
    },
    {
      "cell_type": "markdown",
      "source": [
        "ASSIGNMENT 3"
      ],
      "metadata": {
        "id": "357vq71WHMpp"
      }
    },
    {
      "cell_type": "markdown",
      "source": [
        "CNN Model on"
      ],
      "metadata": {
        "id": "-6DMK3QRHOqw"
      }
    },
    {
      "cell_type": "code",
      "source": [],
      "metadata": {
        "id": "7UCj1gNhHmc5"
      },
      "execution_count": null,
      "outputs": []
    },
    {
      "cell_type": "markdown",
      "source": [
        "ASSIGNMENT 4"
      ],
      "metadata": {
        "id": "7wejYXWNHuAI"
      }
    },
    {
      "cell_type": "markdown",
      "source": [],
      "metadata": {
        "id": "xU14leLkHwYI"
      }
    },
    {
      "cell_type": "code",
      "source": [],
      "metadata": {
        "id": "AAzknQrOHwu4"
      },
      "execution_count": null,
      "outputs": []
    },
    {
      "cell_type": "markdown",
      "source": [
        "ASSIGNMENT 5"
      ],
      "metadata": {
        "id": "B5ydWc9yFvn5"
      }
    },
    {
      "cell_type": "markdown",
      "source": [],
      "metadata": {
        "id": "IONSzY8GG2Do"
      }
    },
    {
      "cell_type": "markdown",
      "source": [
        "Handwritten Digit Recognition using RNN(LSTM)"
      ],
      "metadata": {
        "id": "HrcMUknPGT8h"
      }
    },
    {
      "cell_type": "code",
      "source": [
        "import numpy as np\n",
        "from tensorflow import keras\n",
        "from tensorflow.keras.utils import to_categorical\n",
        "from tensorflow.keras.models import Sequential\n",
        "from tensorflow.keras.layers import LSTM, Dense\n",
        "from PIL import Image\n",
        "\n",
        "# Load MNIST dataset\n",
        "(x_train, y_train), (x_test, y_test) = keras.datasets.mnist.load_data()\n",
        "\n",
        "# Normalize the input data to range [0, 1]\n",
        "x_train = x_train / 255.0\n",
        "x_test = x_test / 255.0\n",
        "\n",
        "# Convert labels to one-hot encoding\n",
        "y_train = to_categorical(y_train, num_classes=10)\n",
        "y_test = to_categorical(y_test, num_classes=10)\n",
        "\n",
        "# Define input shape parameters\n",
        "timesteps = x_train.shape[1]  # 28 rows (height of image)\n",
        "input_dim = x_train.shape[2]  # 28 columns (width of image)\n",
        "\n",
        "# Define the model using LSTM (Long Short-Term Memory) layer\n",
        "model = Sequential([\n",
        "    LSTM(128, input_shape=(timesteps, input_dim), activation='relu', return_sequences=False),  # LSTM layer\n",
        "    Dense(64, activation='relu'),\n",
        "    Dense(32, activation='relu'),\n",
        "    Dense(16, activation='relu'),\n",
        "    Dense(10, activation='softmax')  # Output layer with 10 units for 10 digits (0-9)\n",
        "])\n",
        "\n",
        "# Compile the model\n",
        "model.compile(optimizer='adam', loss='categorical_crossentropy', metrics=['accuracy'])\n",
        "\n",
        "# Train the model\n",
        "model.fit(x_train, y_train, epochs=10, batch_size=64, validation_split=0.2)\n",
        "\n",
        "# Evaluate the model\n",
        "test_loss, test_accuracy = model.evaluate(x_test, y_test, verbose=2)\n",
        "print(f\"Test accuracy: {test_accuracy:.2f}\")\n",
        "\n",
        "# Function to predict a handwritten image\n",
        "def predict_handwritten_image(image_path):\n",
        "    img = Image.open(image_path).convert('L')  # Convert image to grayscale\n",
        "    img = img.resize((28, 28))  # Resize image to 28x28 (same size as MNIST)\n",
        "    img_array = np.array(img) / 255.0  # Normalize pixel values to [0, 1]\n",
        "    img_array = img_array.reshape(1, timesteps, input_dim)  # Reshape to (1, 28, 28)\n",
        "    predictions = model.predict(img_array)\n",
        "    predicted_class = np.argmax(predictions)\n",
        "    confidence = np.max(predictions)\n",
        "\n",
        "    return predicted_class, confidence"
      ],
      "metadata": {
        "id": "yAlMUP04FvRZ",
        "colab": {
          "base_uri": "https://localhost:8080/"
        },
        "outputId": "a8aff5af-504d-4c50-9a76-84671fcabe13"
      },
      "execution_count": null,
      "outputs": [
        {
          "output_type": "stream",
          "name": "stdout",
          "text": [
            "Downloading data from https://storage.googleapis.com/tensorflow/tf-keras-datasets/mnist.npz\n",
            "\u001b[1m11490434/11490434\u001b[0m \u001b[32m━━━━━━━━━━━━━━━━━━━━\u001b[0m\u001b[37m\u001b[0m \u001b[1m1s\u001b[0m 0us/step\n"
          ]
        },
        {
          "output_type": "stream",
          "name": "stderr",
          "text": [
            "/usr/local/lib/python3.10/dist-packages/keras/src/layers/rnn/rnn.py:204: UserWarning: Do not pass an `input_shape`/`input_dim` argument to a layer. When using Sequential models, prefer using an `Input(shape)` object as the first layer in the model instead.\n",
            "  super().__init__(**kwargs)\n"
          ]
        },
        {
          "output_type": "stream",
          "name": "stdout",
          "text": [
            "Epoch 1/10\n",
            "\u001b[1m750/750\u001b[0m \u001b[32m━━━━━━━━━━━━━━━━━━━━\u001b[0m\u001b[37m\u001b[0m \u001b[1m41s\u001b[0m 52ms/step - accuracy: 0.5155 - loss: 1.3788 - val_accuracy: 0.9162 - val_loss: 0.2841\n",
            "Epoch 2/10\n",
            "\u001b[1m750/750\u001b[0m \u001b[32m━━━━━━━━━━━━━━━━━━━━\u001b[0m\u001b[37m\u001b[0m \u001b[1m40s\u001b[0m 50ms/step - accuracy: 0.9407 - loss: 0.2059 - val_accuracy: 0.9572 - val_loss: 0.1489\n",
            "Epoch 3/10\n",
            "\u001b[1m750/750\u001b[0m \u001b[32m━━━━━━━━━━━━━━━━━━━━\u001b[0m\u001b[37m\u001b[0m \u001b[1m42s\u001b[0m 56ms/step - accuracy: 0.9653 - loss: 0.1160 - val_accuracy: 0.9728 - val_loss: 0.0906\n",
            "Epoch 4/10\n",
            "\u001b[1m750/750\u001b[0m \u001b[32m━━━━━━━━━━━━━━━━━━━━\u001b[0m\u001b[37m\u001b[0m \u001b[1m77s\u001b[0m 49ms/step - accuracy: 0.9734 - loss: 0.0880 - val_accuracy: 0.9749 - val_loss: 0.0949\n",
            "Epoch 5/10\n",
            "\u001b[1m750/750\u001b[0m \u001b[32m━━━━━━━━━━━━━━━━━━━━\u001b[0m\u001b[37m\u001b[0m \u001b[1m43s\u001b[0m 52ms/step - accuracy: 0.9779 - loss: 0.0733 - val_accuracy: 0.9770 - val_loss: 0.0777\n",
            "Epoch 6/10\n",
            "\u001b[1m750/750\u001b[0m \u001b[32m━━━━━━━━━━━━━━━━━━━━\u001b[0m\u001b[37m\u001b[0m \u001b[1m37s\u001b[0m 49ms/step - accuracy: 0.9799 - loss: 0.0647 - val_accuracy: 0.9807 - val_loss: 0.0738\n",
            "Epoch 7/10\n",
            "\u001b[1m750/750\u001b[0m \u001b[32m━━━━━━━━━━━━━━━━━━━━\u001b[0m\u001b[37m\u001b[0m \u001b[1m41s\u001b[0m 49ms/step - accuracy: 0.9824 - loss: 0.0564 - val_accuracy: 0.9803 - val_loss: 0.0733\n",
            "Epoch 8/10\n",
            "\u001b[1m446/750\u001b[0m \u001b[32m━━━━━━━━━━━\u001b[0m\u001b[37m━━━━━━━━━\u001b[0m \u001b[1m13s\u001b[0m 44ms/step - accuracy: 0.9857 - loss: 0.0461"
          ]
        }
      ]
    }
  ]
}