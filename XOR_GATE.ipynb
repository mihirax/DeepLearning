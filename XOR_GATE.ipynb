{
  "nbformat": 4,
  "nbformat_minor": 0,
  "metadata": {
    "colab": {
      "provenance": [],
      "include_colab_link": true
    },
    "kernelspec": {
      "name": "python3",
      "display_name": "Python 3"
    },
    "language_info": {
      "name": "python"
    }
  },
  "cells": [
    {
      "cell_type": "markdown",
      "metadata": {
        "id": "view-in-github",
        "colab_type": "text"
      },
      "source": [
        "<a href=\"https://colab.research.google.com/github/mihirax/DeepLearning/blob/main/XOR_GATE.ipynb\" target=\"_parent\"><img src=\"https://colab.research.google.com/assets/colab-badge.svg\" alt=\"Open In Colab\"/></a>"
      ]
    },
    {
      "cell_type": "markdown",
      "source": [
        "DEEP LEARNING LAB\n",
        "ASSIGNMENT 1"
      ],
      "metadata": {
        "id": "2Kb9hsX57C-i"
      }
    },
    {
      "cell_type": "markdown",
      "source": [
        "XOR Gate using Keras Functional API"
      ],
      "metadata": {
        "id": "y82XbR4i63uh"
      }
    },
    {
      "cell_type": "code",
      "execution_count": null,
      "metadata": {
        "colab": {
          "base_uri": "https://localhost:8080/"
        },
        "id": "TBi2KZGj6ySk",
        "outputId": "89d2d160-036f-499a-f894-b42d2b91d892"
      },
      "outputs": [
        {
          "output_type": "stream",
          "name": "stdout",
          "text": [
            "\u001b[1m1/1\u001b[0m \u001b[32m━━━━━━━━━━━━━━━━━━━━\u001b[0m\u001b[37m\u001b[0m \u001b[1m0s\u001b[0m 143ms/step - accuracy: 1.0000 - loss: 0.2896\n",
            "Accuracy: 100.0%\n",
            "\u001b[1m1/1\u001b[0m \u001b[32m━━━━━━━━━━━━━━━━━━━━\u001b[0m\u001b[37m\u001b[0m \u001b[1m0s\u001b[0m 47ms/step\n",
            "Predictions:\n",
            "[[0.]\n",
            " [1.]\n",
            " [1.]\n",
            " [0.]]\n",
            "[]\n",
            "[array([[-6.235339, -2.303349],\n",
            "       [ 6.361   ,  4.560072]], dtype=float32), array([-4.4206514, -0.9883656], dtype=float32)]\n",
            "[array([[ 5.1588974],\n",
            "       [-2.2400255]], dtype=float32), array([3.156152], dtype=float32)]\n"
          ]
        }
      ],
      "source": [
        "import numpy as np\n",
        "import tensorflow as tf\n",
        "from tensorflow.keras.models import Model\n",
        "from tensorflow.keras.layers import Input, Dense\n",
        "\n",
        "X = np.array([[0, 0], [0, 1], [1, 0], [1, 1]])\n",
        "y = np.array([[0], [1], [1], [0]])\n",
        "\n",
        "inputs = Input(shape=(2,))\n",
        "hidden = Dense(2, activation='tanh')(inputs)\n",
        "output = Dense(1, activation='sigmoid')(hidden)\n",
        "\n",
        "model = Model(inputs=inputs, outputs=output)\n",
        "model.compile(optimizer='adam', loss='binary_crossentropy', metrics=['accuracy'])\n",
        "model.fit(X, y, epochs=10000, verbose=0)\n",
        "\n",
        "_, accuracy = model.evaluate(X, y)\n",
        "print(f'Accuracy: {accuracy * 100}%')\n",
        "\n",
        "predictions = model.predict(X)\n",
        "print(f'Predictions:\\n{predictions.round()}')\n",
        "\n",
        "for layer in model.layers:\n",
        "    print(layer.get_weights())\n"
      ]
    }
  ]
}